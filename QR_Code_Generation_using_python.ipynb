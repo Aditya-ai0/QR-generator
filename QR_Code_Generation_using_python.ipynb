{
  "nbformat": 4,
  "nbformat_minor": 0,
  "metadata": {
    "colab": {
      "name": "QR_Code_Generation_using_python.ipynb",
      "provenance": [],
      "collapsed_sections": [],
      "authorship_tag": "ABX9TyO1uctLzjDPzU4/tjEpWCpo",
      "include_colab_link": true
    },
    "kernelspec": {
      "name": "python3",
      "display_name": "Python 3"
    }
  },
  "cells": [
    {
      "cell_type": "markdown",
      "metadata": {
        "id": "view-in-github",
        "colab_type": "text"
      },
      "source": [
        "<a href=\"https://colab.research.google.com/github/Aditya-ai0/QR-generator/blob/main/QR_Code_Generation_using_python.ipynb\" target=\"_parent\"><img src=\"https://colab.research.google.com/assets/colab-badge.svg\" alt=\"Open In Colab\"/></a>"
      ]
    },
    {
      "cell_type": "markdown",
      "metadata": {
        "id": "OBPi1Ux_2zOb"
      },
      "source": [
        "**Project Name: QR Code Generator**\r\n",
        "\r\n",
        "**By: Aditya Vikram Raj**\r\n",
        "\r\n",
        "\r\n",
        "---\r\n",
        "\r\n"
      ]
    },
    {
      "cell_type": "markdown",
      "metadata": {
        "id": "BxSBIpcQ3GDE"
      },
      "source": [
        "**The pyqrcode module is a QR code generator that is simple to use and written in pure python. The module can automates most of the building process for creating QR codes.**"
      ]
    },
    {
      "cell_type": "code",
      "metadata": {
        "colab": {
          "base_uri": "https://localhost:8080/"
        },
        "id": "Q8ysARBdziXX",
        "outputId": "ac913d8e-9c65-4f16-8822-25f63a5a0652"
      },
      "source": [
        "pip install pyqrcode"
      ],
      "execution_count": 24,
      "outputs": [
        {
          "output_type": "stream",
          "text": [
            "Requirement already satisfied: pyqrcode in /usr/local/lib/python3.6/dist-packages (1.2.1)\n"
          ],
          "name": "stdout"
        }
      ]
    },
    {
      "cell_type": "markdown",
      "metadata": {
        "id": "Cuklrte43pqb"
      },
      "source": [
        "**PyPNG allows PNG image files to be read and written using pure Python.**"
      ]
    },
    {
      "cell_type": "code",
      "metadata": {
        "colab": {
          "base_uri": "https://localhost:8080/"
        },
        "id": "ON-wDPVWztRL",
        "outputId": "0206700f-7e95-415d-d520-4da2b3281c76"
      },
      "source": [
        "pip install pypng"
      ],
      "execution_count": 25,
      "outputs": [
        {
          "output_type": "stream",
          "text": [
            "Requirement already satisfied: pypng in /usr/local/lib/python3.6/dist-packages (0.0.20)\n"
          ],
          "name": "stdout"
        }
      ]
    },
    {
      "cell_type": "code",
      "metadata": {
        "id": "V9JsV_Epz1Vq"
      },
      "source": [
        "import pyqrcode"
      ],
      "execution_count": 26,
      "outputs": []
    },
    {
      "cell_type": "code",
      "metadata": {
        "id": "qOCulNFJz1dg"
      },
      "source": [
        "import png"
      ],
      "execution_count": 27,
      "outputs": []
    },
    {
      "cell_type": "code",
      "metadata": {
        "colab": {
          "base_uri": "https://localhost:8080/"
        },
        "id": "pd2xBTGiz8sD",
        "outputId": "deb185a4-e7a5-49fa-b4a3-ab777cf6d0b5"
      },
      "source": [
        "print(\"Eter the text\")\r\n",
        "q = pyqrcode.create(input())\r\n",
        "q.png('qrcode.png',scale =6)\r\n",
        "print('QR Generated')"
      ],
      "execution_count": 28,
      "outputs": [
        {
          "output_type": "stream",
          "text": [
            "Eter the text\n",
            "I love Python\n",
            "QR Generated\n"
          ],
          "name": "stdout"
        }
      ]
    },
    {
      "cell_type": "markdown",
      "metadata": {
        "id": "YyA2RdJv36Oq"
      },
      "source": [
        "**Now for the entered text a QR code is being generated which when scanned will give us the text entered.**\r\n",
        "\r\n",
        "**We can enter the URL of any sites or the address of our social media links and pages and this program will create a QR code for this.**\r\n",
        "\r\n",
        "**Pretty cool isn't it !**\r\n",
        "\r\n",
        "**Well that's all for now. Any improvement and changes to the above code will be highly appreciated**\r\n",
        "\r\n",
        "---\r\n",
        "**THANK YOU**\r\n"
      ]
    }
  ]
}